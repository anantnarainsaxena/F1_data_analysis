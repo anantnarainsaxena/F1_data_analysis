{
 "cells": [
  {
   "cell_type": "code",
   "execution_count": 6,
   "id": "d11c50a9",
   "metadata": {},
   "outputs": [],
   "source": [
    "import numpy as np\n",
    "import pandas as pd\n",
    "import matplotlib.pyplot as plt\n",
    "import seaborn as sb\n",
    "\n",
    "%matplotlib inline"
   ]
  },
  {
   "cell_type": "code",
   "execution_count": 7,
   "id": "7f71dfe3",
   "metadata": {},
   "outputs": [],
   "source": [
    "results=pd.read_csv(\"results.csv\")\n",
    "results.head()"
   ]
  },
  {
   "cell_type": "code",
   "execution_count": 8,
   "id": "c0afb109",
   "metadata": {},
   "outputs": [],
   "source": [
    "races=pd.read_csv(\"races.csv\")\n",
    "drivers=pd.read_csv(\"drivers.csv\")\n"
   ]
  },
  {
   "cell_type": "code",
   "execution_count": 9,
   "id": "34b4099d",
   "metadata": {},
   "outputs": [],
   "source": [
    "constructors=pd.read_csv(\"constructors.csv\")"
   ]
  },
  {
   "cell_type": "code",
   "execution_count": 10,
   "id": "6094b9f1",
   "metadata": {},
   "outputs": [],
   "source": [
    "df=pd.merge(results, races[['raceId','year','round','name']], on='raceId', how='left')\n",
    "df=pd.merge(df, drivers[['driverId','driverRef','nationality']], on='driverId', how='left')\n",
    "df=pd.merge(df, constructors[['constructorId','constructorRef']], on='constructorId', how='left')"
   ]
  },
  {
   "cell_type": "code",
   "execution_count": 11,
   "id": "90ebbe28",
   "metadata": {},
   "outputs": [],
   "source": [
    "df.drop(['number','position','positionText','laps','fastestLap','statusId','driverId','resultId','raceId','constructorId'], axis=1, inplace=True)"
   ]
  },
  {
   "cell_type": "code",
   "execution_count": 12,
   "id": "fa1fca62",
   "metadata": {},
   "outputs": [],
   "source": [
    "df=df[['year','name','round','driverRef','constructorRef','grid','positionOrder','points','time','milliseconds','rank','fastestLapTime','fastestLapSpeed']]"
   ]
  },
  {
   "cell_type": "code",
   "execution_count": 13,
   "id": "cf6dd22b",
   "metadata": {},
   "outputs": [],
   "source": [
    "df=df[df['year']!=2019]"
   ]
  },
  {
   "cell_type": "code",
   "execution_count": 14,
   "id": "484b1200",
   "metadata": {},
   "outputs": [],
   "source": [
    "df=df.sort_values(by=['year','round','positionOrder'],ascending=[False,True,True])"
   ]
  },
  {
   "cell_type": "code",
   "execution_count": 15,
   "id": "3ecdee4e",
   "metadata": {},
   "outputs": [],
   "source": [
    "df.time.replace('\\\\N', np.nan, inplace=True)\n",
    "df.milliseconds.replace('\\\\N', np.nan, inplace=True)\n",
    "df['rank'].replace('\\\\N', np.nan, inplace=True)\n",
    "df.fastestLapSpeed.replace('\\\\N', np.nan, inplace=True)\n",
    "df.fastestLapTime.replace('\\\\N', np.nan, inplace=True)"
   ]
  },
  {
   "cell_type": "code",
   "execution_count": 16,
   "id": "4185ab6b",
   "metadata": {},
   "outputs": [],
   "source": [
    "df.fastestLapSpeed=df.fastestLapSpeed.astype(float)"
   ]
  },
  {
   "cell_type": "code",
   "execution_count": 17,
   "id": "a39fb3b7",
   "metadata": {},
   "outputs": [],
   "source": [
    "df['rank'] = df['rank'].astype(float)\n"
   ]
  },
  {
   "cell_type": "code",
   "execution_count": 18,
   "id": "8df5d4d5",
   "metadata": {},
   "outputs": [],
   "source": [
    "df.milliseconds=df.milliseconds.astype(float)"
   ]
  },
  {
   "cell_type": "code",
   "execution_count": 19,
   "id": "31827fa3",
   "metadata": {},
   "outputs": [],
   "source": [
    "df.reset_index(drop=True, inplace=True)"
   ]
  },
  {
   "cell_type": "code",
   "execution_count": 20,
   "id": "f5b77f72",
   "metadata": {},
   "outputs": [],
   "source": [
    "print(df.shape)"
   ]
  },
  {
   "cell_type": "code",
   "execution_count": 21,
   "id": "c8c160e0",
   "metadata": {},
   "outputs": [],
   "source": [
    "df.info()"
   ]
  },
  {
   "cell_type": "code",
   "execution_count": 22,
   "id": "8a6a0a71",
   "metadata": {},
   "outputs": [],
   "source": [
    "df.head()"
   ]
  },
  {
   "cell_type": "code",
   "execution_count": 23,
   "id": "b3b20ad2",
   "metadata": {},
   "outputs": [],
   "source": [
    "df=df[df['year']!=2024]"
   ]
  },
  {
   "cell_type": "code",
   "execution_count": 24,
   "id": "0480f37f",
   "metadata": {},
   "outputs": [],
   "source": [
    "df.head()"
   ]
  },
  {
   "cell_type": "code",
   "execution_count": 25,
   "id": "291169a1",
   "metadata": {},
   "outputs": [],
   "source": [
    "sb.set_palette('Set3')"
   ]
  },
  {
   "cell_type": "code",
   "execution_count": 26,
   "id": "a0955b05",
   "metadata": {},
   "outputs": [],
   "source": [
    "plt.rcParams['figure.figsize']=10,6"
   ]
  },
  {
   "cell_type": "code",
   "execution_count": 27,
   "id": "66bba242",
   "metadata": {},
   "outputs": [],
   "source": [
    "driver_winner=df.loc[df['positionOrder']==1].groupby('driverRef')['positionOrder'].count().sort_values(ascending=False).to_frame().reset_index()"
   ]
  },
  {
   "cell_type": "code",
   "execution_count": 28,
   "id": "e5ac55f1",
   "metadata": {},
   "outputs": [],
   "source": [
    "sb.barplot(data=driver_winner,y='driverRef',x='positionOrder',color='green',alpha=0.8)\n",
    "plt.title('Most GP winners')\n",
    "plt.ylabel('DriverName')\n",
    "plt.xlabel('Number of GP won')\n",
    "plt.yticks([])"
   ]
  },
  {
   "cell_type": "code",
   "execution_count": 29,
   "id": "e5532fb0",
   "metadata": {},
   "outputs": [],
   "source": [
    "top10Driver=driver_winner.head(10)\n",
    "print(top10Driver)"
   ]
  },
  {
   "cell_type": "code",
   "execution_count": 30,
   "id": "6da29022",
   "metadata": {},
   "outputs": [],
   "source": [
    "sb.barplot(data=top10Driver,y='driverRef',x='positionOrder', color='blue',alpha=0.8, linewidth=.8,edgecolor='black')\n",
    "plt.title(\"most GP winner\")\n",
    "plt.ylabel(\"Driver\")\n",
    "plt.xlabel(\"Number of wins\")"
   ]
  },
  {
   "cell_type": "code",
   "execution_count": 31,
   "id": "0be0f5eb",
   "metadata": {},
   "outputs": [],
   "source": [
    "constructor_winner=df.loc[df['positionOrder']==1].groupby('constructorRef')['positionOrder'].count().sort_values(ascending=False).to_frame().reset_index()\n",
    "sb.barplot(data=constructor_winner,y='constructorRef',x='positionOrder',color='green',alpha=0.8)\n",
    "plt.title('Most GP winners')\n",
    "plt.ylabel('ConstructorName')\n",
    "plt.xlabel('Number of GP won')\n",
    "plt.yticks([])"
   ]
  },
  {
   "cell_type": "code",
   "execution_count": 32,
   "id": "871aa7c2",
   "metadata": {},
   "outputs": [],
   "source": [
    "top10Constructor=constructor_winner.head(10)\n",
    "print(top10Constructor)"
   ]
  },
  {
   "cell_type": "code",
   "execution_count": 33,
   "id": "3b5b351a",
   "metadata": {},
   "outputs": [],
   "source": [
    "sb.barplot(data=top10Constructor,y='constructorRef',x='positionOrder', color='blue',alpha=0.8, linewidth=.8,edgecolor='black')\n",
    "plt.title(\"most GP winner\")\n",
    "plt.ylabel(\"team\")\n",
    "plt.xlabel(\"Number of wins\")"
   ]
  },
  {
   "cell_type": "code",
   "execution_count": 34,
   "id": "3eee1a0f",
   "metadata": {},
   "outputs": [],
   "source": [
    "df_no_zero=df[df['grid']!=0]"
   ]
  },
  {
   "cell_type": "code",
   "execution_count": 37,
   "id": "5dfa029b",
   "metadata": {},
   "outputs": [],
   "source": [
    "plt.figure(figsize=[12,7])\n",
    "sb.regplot(data=df_no_zero,x='grid',y='positionOrder',x_jitter=0.3,y_jitter=0.3,scatter_kws={'alpha': 1/5})\n",
    "plt.title('Starting Position vs Finish')\n",
    "plt.ylabel('Finish Place')\n",
    "plt.xlabel('Staring position')"
   ]
  },
  {
   "cell_type": "code",
   "execution_count": 38,
   "id": "54a12976",
   "metadata": {},
   "outputs": [],
   "source": [
    "df_speed=df[df['year']>= 2004]\n",
    "df_group_speed=df_speed.groupby(['name','year'])['fastestLapSpeed'].mean().to_frame().reset_index()\n",
    "\n",
    "\n",
    "g=sb.FacetGrid(data=df_group_speed, col='name', col_wrap=5)\n",
    "g.map(plt.scatter,'year','fastestLapSpeed', alpha=0.8, linewidth=.8, edgecolor=\"black\", s=100)\n",
    "g.set_titles(\"{col_name}\")\n",
    "g.set_xlabels('Year')\n",
    "g.set_ylabels('Average fastest speed(km/h)')\n",
    "plt.subplots_adjust(top=0.92)\n",
    "g.fig.suptitle('Average Speed among all teams during the fastest lap at individual GPs')"
   ]
  },
  {
   "cell_type": "code",
   "execution_count": 39,
   "id": "1c582306",
   "metadata": {},
   "outputs": [],
   "source": []
  },
  {
   "cell_type": "code",
   "execution_count": null,
   "id": "077739ce",
   "metadata": {},
   "outputs": [],
   "source": []
  }
 ],
 "metadata": {
  "kernelspec": {
   "display_name": "Python 3 (ipykernel)",
   "language": "python",
   "name": "python3"
  },
  "language_info": {
   "codemirror_mode": {
    "name": "ipython",
    "version": 3
   },
   "file_extension": ".py",
   "mimetype": "text/x-python",
   "name": "python",
   "nbconvert_exporter": "python",
   "pygments_lexer": "ipython3",
   "version": "3.11.5"
  }
 },
 "nbformat": 4,
 "nbformat_minor": 5
}
